{
 "cells": [
  {
   "cell_type": "code",
   "execution_count": 1,
   "metadata": {
    "colab": {
     "base_uri": "https://localhost:8080/"
    },
    "id": "fYlBedDIyVjj",
    "outputId": "63406db7-0bd5-479e-b884-c2b8e1a34b49"
   },
   "outputs": [
    {
     "output_type": "stream",
     "name": "stdout",
     "text": [
      "Drive already mounted at /content/drive; to attempt to forcibly remount, call drive.mount(\"/content/drive\", force_remount=True).\n"
     ]
    }
   ],
   "source": [
    "from google.colab import drive\n",
    "drive.mount('/content/drive')\n",
    "import pandas as pd"
   ]
  },
  {
   "cell_type": "markdown",
   "metadata": {
    "id": "ySzbtyHm4TP5"
   },
   "source": [
    "## imports + méthodes"
   ]
  },
  {
   "cell_type": "code",
   "execution_count": null,
   "metadata": {
    "id": "uoDurrWzxXny"
   },
   "outputs": [],
   "source": [
    "import matplotlib.pyplot as plt\n",
    "import seaborn as sns\n",
    "import pandas as pd\n",
    "from sklearn import metrics\n",
    "from sklearn.metrics import confusion_matrix\n",
    "from sklearn.metrics import classification_report\n",
    "from sklearn.metrics import accuracy_score\n",
    "\n",
    "def plot_confusion_matrix(confusionmatrix, classes):\n",
    "    sns.set(color_codes=True)\n",
    "    plt.figure(1, figsize=(8, 5))\n",
    "\n",
    "    plt.title(\"Matrice de confusion\")\n",
    "\n",
    "    sns.set(font_scale=1.4)\n",
    "    ax = sns.heatmap(confusionmatrix, annot=True, cmap=\"YlGnBu\", cbar_kws={'label': 'Scale'},fmt='g')\n",
    "\n",
    "    ax.set_xticklabels(classes,rotation=45)\n",
    "    ax.set_yticklabels(classes,rotation=0)\n",
    "\n",
    "    ax.set(ylabel=\"True Label\", xlabel=\"Predicted Label\")\n",
    "    plt.show()\n",
    "    plt.close()\n",
    "\n",
    "\n",
    "def MyshowAllScores(y_test, y_pred):\n",
    "    classes = ['non_hope', 'neutral', 'hope']\n",
    "    label_map = {0: 'non_hope', 1: 'hope', 2: 'neutral'}\n",
    "    y_test_labels = [label_map[label] for label in y_test]\n",
    "    y_pred_labels = [label_map[label] for label in y_pred]\n",
    "    print(\"Accuracy : %0.3f\" % (accuracy_score(y_test, y_pred)))\n",
    "    print(\"Classification Report\")\n",
    "    print(classification_report(y_test_labels, y_pred_labels, digits=5))\n",
    "    cnf_matrix = confusion_matrix(y_test_labels, y_pred_labels)\n",
    "    # Afficher la matrice de confusion avec les étiquettes personnalisées\n",
    "    plot_confusion_matrix(cnf_matrix, classes)"
   ]
  },
  {
   "cell_type": "markdown",
   "metadata": {
    "id": "9-fb87mPrMEJ"
   },
   "source": [
    "# tweet collection"
   ]
  },
  {
   "cell_type": "markdown",
   "metadata": {
    "id": "s9ahOmVy4eGh"
   },
   "source": [
    "## Création des dfs\n"
   ]
  },
  {
   "cell_type": "code",
   "execution_count": null,
   "metadata": {
    "id": "QSeiunoHkuU-"
   },
   "outputs": [],
   "source": []
  },
  {
   "cell_type": "code",
   "execution_count": null,
   "metadata": {
    "id": "VtkcVPEj8l7X"
   },
   "outputs": [],
   "source": [
    "df = pd.concat([dfAvenirEspoir, dfCapacite, dfChine, dfFestival, dfFete, dfService, dfSecurite, dfShow, df1, df2, df3, df4])\n",
    "df['labelAsma'] = df['labelAsma'].str.strip()\n",
    "df['labelGPT'] = df['labelGPT'].str.strip()\n",
    "df = df.dropna(subset=['labelAsma'])\n",
    "df = df.drop_duplicates()\n",
    "df['labelAsma'] = df['labelAsma'].replace({'hope': 'hope', 'no hope': 'non_hope'})\n",
    "df['labelGPT'] = df['labelGPT'].replace({'hope': 'hope', 'no hope': 'non_hope'})"
   ]
  },
  {
   "cell_type": "code",
   "execution_count": null,
   "metadata": {
    "id": "e2kYiD_e5U7P"
   },
   "outputs": [],
   "source": []
  },
  {
   "cell_type": "markdown",
   "metadata": {
    "id": "mCxujl6V4tzW"
   },
   "source": [
    "## Stats\n"
   ]
  },
  {
   "cell_type": "code",
   "execution_count": null,
   "metadata": {
    "colab": {
     "base_uri": "https://localhost:8080/"
    },
    "id": "tCWpoQ9G5FNj",
    "outputId": "5b0c407f-8a72-4779-b445-ff949adecb39"
   },
   "outputs": [
    {
     "name": "stdout",
     "output_type": "stream",
     "text": [
      "My data frame size : 325\n"
     ]
    }
   ],
   "source": [
    "print(\"My data frame size :\", df.shape[0])"
   ]
  },
  {
   "cell_type": "code",
   "execution_count": null,
   "metadata": {
    "colab": {
     "base_uri": "https://localhost:8080/"
    },
    "id": "A3h8vPFbwpUH",
    "outputId": "f5c906a1-bc41-4578-822b-b9df0861c2d6"
   },
   "outputs": [
    {
     "name": "stdout",
     "output_type": "stream",
     "text": [
      "['hope' 'non_hope' 'neutral']\n"
     ]
    }
   ],
   "source": [
    "print(df['labelAsma'].unique())"
   ]
  },
  {
   "cell_type": "code",
   "execution_count": null,
   "metadata": {
    "colab": {
     "base_uri": "https://localhost:8080/"
    },
    "id": "5qYSfcwHi_PJ",
    "outputId": "b5b13426-1744-495f-a0dd-4429ac79261f",
    "pycharm": {
     "is_executing": true
    }
   },
   "outputs": [],
   "source": [
    "df.groupby('labelAsma').describe()"
   ]
  },
  {
   "cell_type": "code",
   "execution_count": null,
   "metadata": {
    "colab": {
     "base_uri": "https://localhost:8080/"
    },
    "id": "Qh20phoPFonr",
    "outputId": "29b76e7f-de2f-4a5f-9a5c-10d51ee2b06a",
    "pycharm": {
     "is_executing": true
    }
   },
   "outputs": [],
   "source": [
    "import matplotlib.pyplot as plt\n",
    "\n",
    "# Supposons que vous avez un DataFrame appelé df contenant les données des tweets\n",
    "\n",
    "# Filtrer les tweets étiquetés avec \"hope\" et \"no hope\" pour les étiquettes \"labelAsma\"\n",
    "filtered_asma_hope = df[(df['labelAsma'] == 'hope')]\n",
    "filtered_asma_no_hope = df[(df['labelAsma'] == 'non_hope')]\n",
    "filtered_asma_neutral = df[(df['labelAsma'] == 'neutral')]\n",
    "\n",
    "# Obtenir les nombres de tweets pour chaque catégorie\n",
    "count_asma_hope = len(filtered_asma_hope)\n",
    "count_asma_no_hope = len(filtered_asma_no_hope)\n",
    "count_asma_neutral = len(filtered_asma_neutral)\n",
    "\n",
    "\n",
    "# Créer les données pour l'histogramme\n",
    "labels = ['labelAsma - Hope', 'labelAsma - non_hope','labelAsma - neutral']\n",
    "counts = [count_asma_hope, count_asma_no_hope, count_asma_neutral]\n",
    "\n",
    "# Créer l'histogramme\n",
    "plt.bar(labels, counts)\n",
    "plt.xlabel('Catégories')\n",
    "plt.ylabel('Nombre de tweets')\n",
    "plt.title('Nombre de tweets étiquetés en \"hope\" et \"non_hope\"')\n",
    "\n",
    "# Afficher l'histogramme\n",
    "plt.show()\n",
    "\n",
    "\n"
   ]
  },
  {
   "cell_type": "code",
   "execution_count": null,
   "metadata": {
    "colab": {
     "base_uri": "https://localhost:8080/"
    },
    "id": "90C2lMR1PT_T",
    "outputId": "e72539c3-9273-43b5-bf03-3d6e5b058bb1",
    "pycharm": {
     "is_executing": true
    }
   },
   "outputs": [],
   "source": [
    "import pandas as pd\n",
    "import matplotlib.pyplot as plt\n",
    "\n",
    "# Supposons que vous avez un DataFrame appelé df contenant les données des tweets\n",
    "\n",
    "\n",
    "# Filtrer les tweets étiquetés avec \"hope\" et \"no hope\" pour les étiquettes \"labelGPT\"\n",
    "filtered_gpt_hope = df[(df['labelGPT'] == 'hope')]\n",
    "filtered_gpt_no_hope = df[(df['labelGPT'] == 'non_hope')]\n",
    "filtered_gpt_neutral = df[(df['labelGPT'] == 'neutral')]\n",
    "\n",
    "# Obtenir les nombres de tweets pour chaque catégorie\n",
    "count_gpt_hope = len(filtered_gpt_hope)\n",
    "count_gpt_no_hope = len(filtered_gpt_no_hope)\n",
    "count_gpt_neutral = len(filtered_gpt_neutral)\n",
    "\n",
    "# Créer les données pour l'histogramme\n",
    "labels = ['labelGPT - Hope', 'labelGPT - non_hope','labelGPT - neutral']\n",
    "counts = [count_gpt_hope, count_gpt_no_hope, count_gpt_neutral]\n",
    "\n",
    "# Créer l'histogramme\n",
    "plt.bar(labels, counts)\n",
    "plt.xlabel('Catégories')\n",
    "plt.ylabel('Nombre de tweets')\n",
    "plt.title('Nombre de tweets étiquetés en \"hope\" et \"non_hope\" et \"neutral\"')\n",
    "\n",
    "# Afficher l'histogramme\n",
    "plt.show()\n",
    "\n",
    "\n"
   ]
  },
  {
   "cell_type": "markdown",
   "metadata": {
    "id": "ZH05HYQt4xgn"
   },
   "source": [
    "# gpt model Evaluation\n",
    "\n"
   ]
  },
  {
   "cell_type": "code",
   "execution_count": null,
   "metadata": {
    "colab": {
     "base_uri": "https://localhost:8080/"
    },
    "id": "K2ozz8qfSRvI",
    "outputId": "02d4f52c-99cf-49af-936c-a0fb16462636"
   },
   "outputs": [
    {
     "name": "stdout",
     "output_type": "stream",
     "text": [
      "0\n",
      "[1 0 2]\n",
      "Accuracy : 0.748\n",
      "Classification Report\n",
      "              precision    recall  f1-score   support\n",
      "\n",
      "        hope    0.67778   0.89051   0.76972       137\n",
      "     neutral    0.46667   0.29167   0.35897        24\n",
      "    non_hope    0.88525   0.69231   0.77698       156\n",
      "\n",
      "    accuracy                        0.74763       317\n",
      "   macro avg    0.67656   0.62483   0.63522       317\n",
      "weighted avg    0.76389   0.74763   0.74219       317\n",
      "\n"
     ]
    },
    {
     "data": {
      "image/png": "[encoded data removed]",
      "text/plain": [
       "<Figure size 800x500 with 2 Axes>"
      ]
     },
     "metadata": {},
     "output_type": "display_data"
    }
   ],
   "source": [
    "from sklearn.metrics import confusion_matrix\n",
    "\n",
    "dfMAJ=df\n",
    "\n",
    "dfMAJ['labelAsma'] = dfMAJ['labelAsma'].replace({'hope': 1, 'non_hope': 0, 'neutral':2})\n",
    "\n",
    "# Remplacer les valeurs dans la colonne 'labelGPT'\n",
    "dfMAJ['labelGPT'] = dfMAJ['labelGPT'].replace({'hope': 1, 'non_hope': 0, 'neutral':2})\n",
    "dfMAJ1=dfMAJ\n",
    "dfMAJ1 = dfMAJ1.dropna(subset=['labelGPT'])\n",
    "print(dfMAJ1['labelGPT'].isna().sum())\n",
    "\n",
    "\n",
    "true_labels = dfMAJ1['labelAsma']\n",
    "predicted_labels = dfMAJ1['labelGPT']\n",
    "\n",
    "unique_values = dfMAJ1['labelAsma'].unique()\n",
    "\n",
    "# Afficher les valeurs uniques\n",
    "print(unique_values)\n",
    "\n",
    "true_labels = true_labels.astype(float)\n",
    "predicted_labels = predicted_labels.astype(float)\n",
    "\n",
    "#confusion_matrix = confusion_matrix(true_labels, predicted_labels)\n",
    "MyshowAllScores(true_labels,predicted_labels)"
   ]
  },
  {
   "cell_type": "markdown",
   "metadata": {
    "id": "khNnr0e_pRa3"
   },
   "source": [
    "# Netoyage des données"
   ]
  },
  {
   "cell_type": "code",
   "execution_count": null,
   "metadata": {
    "colab": {
     "base_uri": "https://localhost:8080/"
    },
    "id": "zrQkQxv8sR1b",
    "outputId": "91338d0e-df26-49de-aa81-d6c487c91e96"
   },
   "outputs": [
    {
     "name": "stderr",
     "output_type": "stream",
     "text": [
      "[nltk_data] Downloading package punkt to /root/nltk_data...\n",
      "[nltk_data]   Package punkt is already up-to-date!\n"
     ]
    }
   ],
   "source": [
    "import re\n",
    "import nltk\n",
    "nltk.download('punkt')\n",
    "from nltk.tokenize import word_tokenize\n",
    "\n",
    "def remove_uri(text):\n",
    "  # expression régulière pour détecter les URI\n",
    "  pattern = r'https?://\\S+|www.\\S+'\n",
    "  # suppression des URI\n",
    "  return re.sub(pattern, ' ', text)\n",
    "\n",
    "def removeHashtags(text):\n",
    "    cleanedText = re.sub(r'#\\w+\\s*', '', text)\n",
    "    cleanedText = cleanedText.strip()\n",
    "    return cleanedText\n",
    "\n",
    "def replace_emojies_meaning(text):\n",
    "    emoji_df = pd.read_excel('frenchEmojies.xlsx')\n",
    "    emoji_dict = dict(zip(emoji_df['EMOJI'], emoji_df['SIGNIFICATION']))\n",
    "    words = text.split()\n",
    "    meanings = []\n",
    "    for i, word in enumerate(words):\n",
    "        word_meanings = []\n",
    "        for emoji, meaning in emoji_dict.items():\n",
    "            if emoji in word:\n",
    "                word_meanings.append(meaning)\n",
    "                word = re.sub(re.escape(emoji), \"\", word)\n",
    "        if word_meanings:\n",
    "            meanings.extend(word_meanings)\n",
    "            words[i] = word\n",
    "    words.append(\" \".join(meanings))\n",
    "    return \" \".join(words)\n",
    "\n",
    "def eliminer_abbreviation(text):\n",
    "  dicAbreviation = {\n",
    "      \"toujours\" : ['tjrs','tjr'],\n",
    "      \"merci\": ['mrc','cimer', ],\n",
    "      \"pour\": ['pr'],\n",
    "      \"donc\": ['dc','dnc'],\n",
    "      \"désolé\": ['dsl'],\n",
    "      \"mais\": ['ms'],\n",
    "      \"quelqu'un\": ['qqn'],\n",
    "      \"quelque chose\": ['qqch'],\n",
    "      \"s'il vous plaît\": ['svp'],\n",
    "      \"beaucoup\": ['bcp'],\n",
    "      \"salut\": ['slt'],\n",
    "      \"jamais\": ['jms'],\n",
    "      \"quelque\": ['qlq'],\n",
    "      \"quand\": ['qd'],\n",
    "      \"quand même\": ['qmm'],\n",
    "      \"pourquoi\": ['pk','prq','pq'],\n",
    "      \"comment\": ['cm'],\n",
    "      \"maintenant\": ['mtnt','mnt','mtn'],\n",
    "      \"tout\": ['tt'],\n",
    "      \"tous\": ['ts'],\n",
    "      \"pour\": ['pr'],\n",
    "      \"s'il te plaît\": ['stp'],\n",
    "      \"dans\": ['ds','dns'],\n",
    "      \"nouvelle\": ['nvl'],\n",
    "      \"nouveau\":['nv'],\n",
    "      \"bien\":['b1']\n",
    "  }\n",
    "  for mot, abbreviations in dicAbreviation.items():\n",
    "      for abbreviation in abbreviations:\n",
    "          pattern = r\"(?<!\\w)\" + re.escape(abbreviation) + r\"(?!\\w)\"\n",
    "          text = re.sub(pattern, mot, text)\n",
    "  return text\n",
    "\n",
    "def replace_mentions(text):\n",
    "    cleaned_text = re.sub(r'@\\w+', 'UTILISATEUR', text)\n",
    "    return cleaned_text\n",
    "\n",
    "def clean(removeUri, removeHashtag, replaceMentions, replaceEmojies, eliminerAbbreviation,lowerCase, text):\n",
    "  if lowerCase:\n",
    "    text=text.lower()\n",
    "  text=text.replace(\"&amp;\",\"\")\n",
    "  if replaceEmojies :\n",
    "    text = replace_emojies_meaning(text)\n",
    "  if removeUri :\n",
    "    text = remove_uri(text)\n",
    "  if removeHashtag :\n",
    "    text = removeHashtags(text)\n",
    "  if replaceMentions :\n",
    "    text = replace_mentions(text)\n",
    "  if eliminerAbbreviation:\n",
    "    text = eliminer_abbreviation(text)\n",
    "  return text\n",
    "\n",
    "\n"
   ]
  },
  {
   "cell_type": "markdown",
   "metadata": {
    "id": "azaqkA04iPCk"
   },
   "source": [
    "# BERT multilingual base model\n"
   ]
  },
  {
   "cell_type": "markdown",
   "metadata": {
    "id": "VAMzJYW1SamM"
   },
   "source": [
    "## import"
   ]
  },
  {
   "cell_type": "code",
   "execution_count": null,
   "metadata": {
    "colab": {
     "base_uri": "https://localhost:8080/"
    },
    "id": "tNvB6cqHxtpy",
    "outputId": "989c7485-e4c6-4030-92f3-c28bb937173c"
   },
   "outputs": [
    {
     "name": "stdout",
     "output_type": "stream",
     "text": [
      "Requirement already satisfied: transformers in /usr/local/lib/python3.10/dist-packages (4.30.2)\n",
      "Requirement already satisfied: filelock in /usr/local/lib/python3.10/dist-packages (from transformers) (3.12.2)\n",
      "Requirement already satisfied: huggingface-hub<1.0,>=0.14.1 in /usr/local/lib/python3.10/dist-packages (from transformers) (0.16.4)\n",
      "Requirement already satisfied: numpy>=1.17 in /usr/local/lib/python3.10/dist-packages (from transformers) (1.22.4)\n",
      "Requirement already satisfied: packaging>=20.0 in /usr/local/lib/python3.10/dist-packages (from transformers) (23.1)\n",
      "Requirement already satisfied: pyyaml>=5.1 in /usr/local/lib/python3.10/dist-packages (from transformers) (6.0)\n",
      "Requirement already satisfied: regex!=2019.12.17 in /usr/local/lib/python3.10/dist-packages (from transformers) (2022.10.31)\n",
      "Requirement already satisfied: requests in /usr/local/lib/python3.10/dist-packages (from transformers) (2.27.1)\n",
      "Requirement already satisfied: tokenizers!=0.11.3,<0.14,>=0.11.1 in /usr/local/lib/python3.10/dist-packages (from transformers) (0.13.3)\n",
      "Requirement already satisfied: safetensors>=0.3.1 in /usr/local/lib/python3.10/dist-packages (from transformers) (0.3.1)\n",
      "Requirement already satisfied: tqdm>=4.27 in /usr/local/lib/python3.10/dist-packages (from transformers) (4.65.0)\n",
      "Requirement already satisfied: fsspec in /usr/local/lib/python3.10/dist-packages (from huggingface-hub<1.0,>=0.14.1->transformers) (2023.6.0)\n",
      "Requirement already satisfied: typing-extensions>=3.7.4.3 in /usr/local/lib/python3.10/dist-packages (from huggingface-hub<1.0,>=0.14.1->transformers) (4.7.1)\n",
      "Requirement already satisfied: urllib3<1.27,>=1.21.1 in /usr/local/lib/python3.10/dist-packages (from requests->transformers) (1.26.16)\n",
      "Requirement already satisfied: certifi>=2017.4.17 in /usr/local/lib/python3.10/dist-packages (from requests->transformers) (2023.5.7)\n",
      "Requirement already satisfied: charset-normalizer~=2.0.0 in /usr/local/lib/python3.10/dist-packages (from requests->transformers) (2.0.12)\n",
      "Requirement already satisfied: idna<4,>=2.5 in /usr/local/lib/python3.10/dist-packages (from requests->transformers) (3.4)\n"
     ]
    }
   ],
   "source": [
    "!pip install transformers"
   ]
  },
  {
   "cell_type": "code",
   "execution_count": null,
   "metadata": {
    "id": "Y786vy1l7VYq"
   },
   "outputs": [],
   "source": [
    "from sklearn.model_selection import train_test_split\n",
    "import transformers\n",
    "import torch\n",
    "import torch.nn as nn\n",
    "from transformers import BertModel, BertTokenizer\n",
    "from torch.utils.data import DataLoader\n",
    "from torch.utils.data.dataset import Dataset\n",
    "from sklearn.metrics import classification_report\n",
    "from torch.nn.functional import sigmoid\n",
    "import pandas as pd\n",
    "import numpy as np"
   ]
  },
  {
   "cell_type": "markdown",
   "metadata": {
    "id": "0HjjALEhv00X"
   },
   "source": [
    "##Focal Loss\n"
   ]
  },
  {
   "cell_type": "markdown",
   "metadata": {
    "id": "yBXa0Xr5Y4pL"
   },
   "source": [
    "###TRAIN (40/60) best score\n"
   ]
  },
  {
   "cell_type": "code",
   "execution_count": null,
   "metadata": {
    "colab": {
     "base_uri": "https://localhost:8080/"
    },
    "id": "YmyheRfZY4pN",
    "outputId": "cebc7ee6-dacb-46f5-d1a4-f3a55fc53b6b",
    "pycharm": {
     "is_executing": true
    }
   },
   "outputs": [],
   "source": [
    "dfMAJ['tweet'] = dfMAJ['tweet'].apply(lambda x: clean(1,0,1,1,1,1,x))\n",
    "dfMAJ = dfMAJ[dfMAJ['labelAsma'].isin([1, 0])]\n",
    "label_values = dfMAJ['labelAsma'].unique()\n",
    "\n",
    "# Afficher les valeurs de label\n",
    "print(label_values)\n",
    "print(len(dfMAJ))\n",
    "\n",
    "X=dfMAJ['tweet'].tolist()\n",
    "y=dfMAJ['labelAsma'].tolist()\n",
    "texts, test_texts, labels, test_labels = train_test_split(X, y,train_size=0.6,random_state=42)"
   ]
  },
  {
   "cell_type": "code",
   "execution_count": null,
   "metadata": {
    "colab": {
     "base_uri": "https://localhost:8080/"
    },
    "id": "TEJBjKFKaC9Z",
    "outputId": "0e2371a6-9754-4db2-cf82-f7d866726f33",
    "pycharm": {
     "is_executing": true
    }
   },
   "outputs": [],
   "source": []
  },
  {
   "cell_type": "code",
   "execution_count": null,
   "metadata": {
    "colab": {
     "base_uri": "https://localhost:8080/"
    },
    "id": "0-xt8vrvphbN",
    "outputId": "e44eb902-d868-4a18-9bb8-8a1f63e9ef58"
   },
   "outputs": [
    {
     "output_type": "stream",
     "name": "stdout",
     "text": [
      "Test Results:\n",
      "[1.0, 1.0, 0.0, 0.0, 0.0, 0.0, 1.0, 1.0]\n",
      "[1.0, 0.0, 1.0, 0.0, 1.0, 1.0, 0.0, 0.0]\n",
      "[0.0, 0.0, 1.0, 0.0, 1.0, 0.0, 1.0, 0.0]\n",
      "[1.0, 1.0, 0.0, 1.0, 0.0, 0.0, 1.0, 0.0]\n",
      "[1.0, 0.0, 1.0, 0.0, 1.0, 0.0, 0.0, 0.0]\n",
      "[0.0, 1.0, 1.0, 1.0, 0.0, 1.0, 1.0, 0.0]\n",
      "[1.0, 0.0, 1.0, 0.0, 1.0, 0.0, 1.0, 0.0]\n",
      "[0.0, 1.0, 1.0, 1.0, 1.0, 1.0, 0.0, 0.0]\n",
      "[1.0, 0.0, 0.0, 0.0, 0.0, 1.0, 0.0, 0.0]\n",
      "[1.0, 0.0, 0.0, 0.0, 0.0, 1.0, 0.0, 1.0]\n",
      "[0.0, 1.0, 0.0, 1.0, 1.0, 1.0, 1.0, 1.0]\n",
      "[1.0, 0.0, 0.0, 1.0, 0.0, 0.0, 1.0, 1.0]\n",
      "[1.0, 0.0, 0.0, 0.0, 1.0, 0.0, 0.0, 0.0]\n",
      "[0.0, 0.0, 0.0, 0.0, 1.0, 1.0, 0.0, 1.0]\n",
      "[1.0, 1.0, 0.0, 1.0, 1.0, 1.0, 1.0, 1.0]\n",
      "1.0\n",
      "\n",
      "Classification Report:\n",
      "              precision    recall  f1-score   support\n",
      "\n",
      "    Non-hope       0.84      0.78      0.81        65\n",
      "        Hope       0.77      0.82      0.79        56\n",
      "\n",
      "    accuracy                           0.80       121\n",
      "   macro avg       0.80      0.80      0.80       121\n",
      "weighted avg       0.80      0.80      0.80       121\n",
      "\n",
      "1.0\n",
      "1.0\n",
      "0.0\n",
      "0.0\n",
      "0.0\n",
      "0.0\n",
      "1.0\n",
      "1.0\n",
      "1.0\n",
      "0.0\n",
      "1.0\n",
      "0.0\n",
      "1.0\n",
      "1.0\n",
      "0.0\n",
      "0.0\n",
      "0.0\n",
      "0.0\n",
      "1.0\n",
      "0.0\n",
      "1.0\n",
      "0.0\n",
      "1.0\n",
      "0.0\n",
      "1.0\n",
      "1.0\n",
      "0.0\n",
      "1.0\n",
      "0.0\n",
      "0.0\n",
      "1.0\n",
      "0.0\n",
      "1.0\n",
      "0.0\n",
      "1.0\n",
      "0.0\n",
      "1.0\n",
      "0.0\n",
      "0.0\n",
      "0.0\n",
      "0.0\n",
      "1.0\n",
      "1.0\n",
      "1.0\n",
      "0.0\n",
      "1.0\n",
      "1.0\n",
      "0.0\n",
      "1.0\n",
      "0.0\n",
      "1.0\n",
      "0.0\n",
      "1.0\n",
      "0.0\n",
      "1.0\n",
      "0.0\n",
      "0.0\n",
      "1.0\n",
      "1.0\n",
      "1.0\n",
      "1.0\n",
      "1.0\n",
      "0.0\n",
      "0.0\n",
      "1.0\n",
      "0.0\n",
      "0.0\n",
      "0.0\n",
      "0.0\n",
      "1.0\n",
      "0.0\n",
      "0.0\n",
      "1.0\n",
      "0.0\n",
      "0.0\n",
      "0.0\n",
      "0.0\n",
      "1.0\n",
      "0.0\n",
      "1.0\n",
      "0.0\n",
      "1.0\n",
      "0.0\n",
      "1.0\n",
      "1.0\n",
      "1.0\n",
      "1.0\n",
      "1.0\n",
      "1.0\n",
      "0.0\n",
      "0.0\n",
      "1.0\n",
      "0.0\n",
      "0.0\n",
      "1.0\n",
      "1.0\n",
      "1.0\n",
      "0.0\n",
      "0.0\n",
      "0.0\n",
      "1.0\n",
      "0.0\n",
      "0.0\n",
      "0.0\n",
      "0.0\n",
      "0.0\n",
      "0.0\n",
      "0.0\n",
      "1.0\n",
      "1.0\n",
      "0.0\n",
      "1.0\n",
      "1.0\n",
      "1.0\n",
      "0.0\n",
      "1.0\n",
      "1.0\n",
      "1.0\n",
      "1.0\n",
      "1.0\n",
      "1.0\n",
      "[1. 1. 0. 0. 0. 0. 1. 1. 1. 0. 1. 0. 1. 1. 0. 0. 0. 0. 1. 0. 1. 0. 1. 0.\n",
      " 1. 1. 0. 1. 0. 0. 1. 0. 1. 0. 1. 0. 1. 0. 0. 0. 0. 1. 1. 1. 0. 1. 1. 0.\n",
      " 1. 0. 1. 0. 1. 0. 1. 0. 0. 1. 1. 1. 1. 1. 0. 0. 1. 0. 0. 0. 0. 1. 0. 0.\n",
      " 1. 0. 0. 0. 0. 1. 0. 1. 0. 1. 0. 1. 1. 1. 1. 1. 1. 0. 0. 1. 0. 0. 1. 1.\n",
      " 1. 0. 0. 0. 1. 0. 0. 0. 0. 0. 0. 0. 1. 1. 0. 1. 1. 1. 0. 1. 1. 1. 1. 1.\n",
      " 1.]\n",
      "[[1.]\n",
      " [1.]\n",
      " [1.]\n",
      " [0.]\n",
      " [0.]\n",
      " [1.]\n",
      " [1.]\n",
      " [1.]\n",
      " [1.]\n",
      " [0.]\n",
      " [1.]\n",
      " [1.]\n",
      " [1.]\n",
      " [1.]\n",
      " [0.]\n",
      " [0.]\n",
      " [0.]\n",
      " [0.]\n",
      " [1.]\n",
      " [0.]\n",
      " [1.]\n",
      " [0.]\n",
      " [0.]\n",
      " [0.]\n",
      " [1.]\n",
      " [1.]\n",
      " [0.]\n",
      " [0.]\n",
      " [0.]\n",
      " [0.]\n",
      " [1.]\n",
      " [0.]\n",
      " [1.]\n",
      " [0.]\n",
      " [1.]\n",
      " [0.]\n",
      " [1.]\n",
      " [1.]\n",
      " [0.]\n",
      " [0.]\n",
      " [0.]\n",
      " [1.]\n",
      " [0.]\n",
      " [1.]\n",
      " [0.]\n",
      " [1.]\n",
      " [1.]\n",
      " [0.]\n",
      " [0.]\n",
      " [1.]\n",
      " [0.]\n",
      " [0.]\n",
      " [0.]\n",
      " [0.]\n",
      " [1.]\n",
      " [1.]\n",
      " [0.]\n",
      " [1.]\n",
      " [1.]\n",
      " [1.]\n",
      " [1.]\n",
      " [1.]\n",
      " [0.]\n",
      " [0.]\n",
      " [0.]\n",
      " [0.]\n",
      " [0.]\n",
      " [1.]\n",
      " [0.]\n",
      " [1.]\n",
      " [1.]\n",
      " [1.]\n",
      " [0.]\n",
      " [0.]\n",
      " [0.]\n",
      " [0.]\n",
      " [0.]\n",
      " [1.]\n",
      " [0.]\n",
      " [0.]\n",
      " [0.]\n",
      " [1.]\n",
      " [0.]\n",
      " [1.]\n",
      " [1.]\n",
      " [1.]\n",
      " [1.]\n",
      " [1.]\n",
      " [1.]\n",
      " [0.]\n",
      " [0.]\n",
      " [0.]\n",
      " [0.]\n",
      " [0.]\n",
      " [1.]\n",
      " [1.]\n",
      " [0.]\n",
      " [0.]\n",
      " [0.]\n",
      " [0.]\n",
      " [1.]\n",
      " [0.]\n",
      " [0.]\n",
      " [1.]\n",
      " [0.]\n",
      " [0.]\n",
      " [0.]\n",
      " [0.]\n",
      " [1.]\n",
      " [1.]\n",
      " [0.]\n",
      " [1.]\n",
      " [1.]\n",
      " [1.]\n",
      " [0.]\n",
      " [1.]\n",
      " [0.]\n",
      " [0.]\n",
      " [1.]\n",
      " [1.]\n",
      " [0.]]\n"
     ]
    }
   ],
   "source": [
    "class TextDataset(Dataset):\n",
    "    def __init__(self, texts, labels, tokenizer, max_length):\n",
    "        self.texts = texts\n",
    "        self.labels = labels\n",
    "        self.tokenizer = tokenizer\n",
    "        self.max_length = max_length\n",
    "\n",
    "    def __len__(self):\n",
    "        return len(self.texts)\n",
    "\n",
    "    def __getitem__(self, index):\n",
    "        text = self.texts[index]\n",
    "        label = self.labels[index]\n",
    "        encoding = self.tokenizer.encode_plus(\n",
    "            text,\n",
    "            add_special_tokens=True,\n",
    "            max_length=self.max_length,\n",
    "            padding='max_length',\n",
    "            truncation=True,\n",
    "            return_tensors='pt'\n",
    "        )\n",
    "\n",
    "        input_ids = encoding['input_ids'].squeeze()\n",
    "        attention_mask = encoding['attention_mask'].squeeze()\n",
    "\n",
    "        sample = {\n",
    "            'input_ids': input_ids,\n",
    "            'attention_mask': attention_mask,\n",
    "            'labels': torch.tensor(label, dtype=torch.float).unsqueeze(0)  # Add unsqueeze(0) to make it [1, 1]\n",
    "        }\n",
    "        return sample\n",
    "\n",
    "# Define your BERT-based classifier\n",
    "class BertClassifier(nn.Module):\n",
    "    def __init__(self, num_classes):\n",
    "        super(BertClassifier, self).__init__()\n",
    "        self.bert = BertModel.from_pretrained('bert-base-multilingual-cased')\n",
    "        self.dropout = nn.Dropout(0.1)\n",
    "        self.fc = nn.Linear(self.bert.config.hidden_size, num_classes)\n",
    "\n",
    "    def forward(self, input_ids, attention_mask):\n",
    "        outputs = self.bert(input_ids=input_ids, attention_mask=attention_mask)\n",
    "        pooled_output = outputs.pooler_output\n",
    "        pooled_output = self.dropout(pooled_output)\n",
    "        logits = self.fc(pooled_output)\n",
    "        return logits\n",
    "\n",
    "tokenizer = BertTokenizer.from_pretrained('bert-base-multilingual-cased')\n",
    "max_length = 128\n",
    "\n",
    "# Create the dataset\n",
    "dataset = TextDataset(texts, labels, tokenizer, max_length)\n",
    "\n",
    "# Define the batch size and number of epochs\n",
    "batch_size = 8    #16,32\n",
    "num_epochs = 8\n",
    "\n",
    "# Create the train dataloader\n",
    "train_dataloader = DataLoader(dataset, batch_size=batch_size, shuffle=True)\n",
    "\n",
    "# Create an instance of the classifier\n",
    "model = BertClassifier(num_classes=1)\n",
    "\n",
    "\n",
    "# Define the focal loss function\n",
    "class FocalLoss(nn.Module):\n",
    "    def __init__(self, alpha=0.25, gamma=2.0):\n",
    "        super(FocalLoss, self).__init__()\n",
    "        self.alpha = alpha\n",
    "        self.gamma = gamma\n",
    "\n",
    "    def forward(self, logits, labels):\n",
    "        probs = sigmoid(logits)\n",
    "        pt = probs * labels + (1 - probs) * (1 - labels)\n",
    "        alpha_factor = self.alpha * labels + (1 - self.alpha) * (1 - labels)\n",
    "        focal_weight = alpha_factor * torch.pow(1 - pt, self.gamma)\n",
    "\n",
    "        loss = focal_weight * nn.BCEWithLogitsLoss(reduction='none')(logits, labels)\n",
    "        return loss.mean()\n",
    "\n",
    "\n",
    "# Define the loss function and optimizer\n",
    "criterion = FocalLoss()\n",
    "optimizer = torch.optim.AdamW(model.parameters(), lr=2e-5)\n",
    "\n",
    "#Training loop\n",
    "for epoch in range(num_epochs):\n",
    "    running_loss = 0.0\n",
    "\n",
    "    for batch in train_dataloader:\n",
    "        input_ids = batch['input_ids']\n",
    "        attention_mask = batch['attention_mask']\n",
    "        labels = batch['labels']\n",
    "\n",
    "        optimizer.zero_grad()\n",
    "\n",
    "        logits = model(input_ids, attention_mask)\n",
    "        loss = criterion(logits, labels)\n",
    "\n",
    "        loss.backward()\n",
    "        optimizer.step()\n",
    "\n",
    "        running_loss += loss.item()\n",
    "\n",
    "    epoch_loss = running_loss / len(train_dataloader)\n",
    "\n",
    "    print(f'Epoch {epoch + 1}/{num_epochs} - Loss: {epoch_loss:.4f}')\n",
    "\n",
    "# Evaluation\n",
    "model.eval()\n",
    "\n",
    "test_dataset = TextDataset(test_texts, test_labels, tokenizer, max_length)\n",
    "test_dataloader = DataLoader(test_dataset, batch_size=batch_size, shuffle=False)\n",
    "print('Test Results:')\n",
    "all_predictions = []\n",
    "all_labels = []\n",
    "\n",
    "all_texts = []  # Add a list to store the texts\n",
    "\n",
    "for batch in test_dataloader:\n",
    "    list=[]\n",
    "    input_ids = batch['input_ids']\n",
    "    attention_mask = batch['attention_mask']\n",
    "    logits = model(input_ids, attention_mask)\n",
    "    probabilities = sigmoid(logits)\n",
    "    predictions = torch.round(probabilities).squeeze()\n",
    "    p = predictions.tolist()\n",
    "    print(p)\n",
    "    if isinstance(p, float):\n",
    "      list.append(p)\n",
    "      all_predictions.extend(list)\n",
    "    else :\n",
    "      all_predictions.extend(p)  #Ajouter la liste de prédictions\n",
    "    all_labels.extend(batch['labels'].tolist())\n",
    "\n",
    "target_names = ['Non-hope', 'Hope']\n",
    "print('\\nClassification Report:')\n",
    "print(classification_report(all_labels, all_predictions, target_names=target_names))\n",
    "\n",
    "\n",
    "all_predictions = np.array(all_predictions)\n",
    "all_labels = np.array(all_labels)\n",
    "\n",
    "for i in all_predictions:\n",
    "    print(i)\n",
    "\n",
    "print(all_predictions)\n",
    "print(all_labels)\n",
    "data = [test_texts, all_labels,  all_predictions]\n",
    "df = pd.DataFrame(data)\n",
    "df.to_csv('classification_results.csv', index=False)"
   ]
  },
  {
   "cell_type": "code",
   "execution_count": null,
   "metadata": {
    "colab": {
     "base_uri": "https://localhost:8080/"
    },
    "id": "jwOOZP4pmrQf",
    "outputId": "7f7370b1-ce9b-4894-98db-4c425b07ffdd"
   },
   "outputs": [
    {
     "name": "stdout",
     "output_type": "stream",
     "text": [
      "[1 0]\n"
     ]
    },
    {
     "name": "stderr",
     "output_type": "stream",
     "text": [
      "<ipython-input-28-1a91743bd283>:1: SettingWithCopyWarning: \n",
      "A value is trying to be set on a copy of a slice from a DataFrame.\n",
      "Try using .loc[row_indexer,col_indexer] = value instead\n",
      "\n",
      "See the caveats in the documentation: https://pandas.pydata.org/pandas-docs/stable/user_guide/indexing.html#returning-a-view-versus-a-copy\n",
      "  dfMAJ['tweet'] = dfMAJ['tweet'].apply(lambda x: clean(0,0,0,0,1,1,x))\n"
     ]
    }
   ],
   "source": [
    "dfMAJ['tweet'] = dfMAJ['tweet'].apply(lambda x: clean(0,0,0,0,1,1,x))\n",
    "#clean(removeUri, removeHashtag, replaceMentions, replaceEmojies, eliminerAbbreviation,lowerCase, text):\n",
    "dfMAJ = dfMAJ.drop(dfMAJ[dfMAJ['labelAsma'] == 2].index)\n",
    "label_values = dfMAJ['labelAsma'].unique()\n",
    "\n",
    "# Afficher les valeurs de label\n",
    "print(label_values)"
   ]
  },
  {
   "cell_type": "code",
   "execution_count": null,
   "metadata": {
    "id": "wlaeYYfgmrQg"
   },
   "outputs": [],
   "source": [
    "X=dfMAJ['tweet'].tolist()\n",
    "y=dfMAJ['labelAsma'].tolist()\n",
    "texts, test_texts, labels, test_labels = train_test_split(X, y, stratify=y)"
   ]
  },
  {
   "cell_type": "code",
   "execution_count": null,
   "metadata": {
    "colab": {
     "base_uri": "https://localhost:8080/",
     "height": 1000,
     "referenced_widgets": [
      "6b1d3d1bf48e4686a6b4678c58637320",
      "ab6ca110c9134f5e9d4279083a190c9c",
      "84b3812bd0cb4c0bb29fd47dbdc2508f",
      "2d6df3d9207d463dabb716cfc0688392"
     ]
    },
    "id": "RcgWtK_tmrQg",
    "outputId": "8302e31b-c645-4bf6-fc11-266c688630d2"
   },
   "outputs": [
    {
     "data": {
      "application/vnd.jupyter.widget-view+json": {
       "model_id": "6b1d3d1bf48e4686a6b4678c58637320",
       "version_major": 2,
       "version_minor": 0
      },
      "text/plain": [
       "Downloading (…)solve/main/vocab.txt:   0%|          | 0.00/996k [00:00<?, ?B/s]"
      ]
     },
     "metadata": {},
     "output_type": "display_data"
    },
    {
     "data": {
      "application/vnd.jupyter.widget-view+json": {
       "model_id": "ab6ca110c9134f5e9d4279083a190c9c",
       "version_major": 2,
       "version_minor": 0
      },
      "text/plain": [
       "Downloading (…)okenizer_config.json:   0%|          | 0.00/29.0 [00:00<?, ?B/s]"
      ]
     },
     "metadata": {},
     "output_type": "display_data"
    },
    {
     "data": {
      "application/vnd.jupyter.widget-view+json": {
       "model_id": "84b3812bd0cb4c0bb29fd47dbdc2508f",
       "version_major": 2,
       "version_minor": 0
      },
      "text/plain": [
       "Downloading (…)lve/main/config.json:   0%|          | 0.00/625 [00:00<?, ?B/s]"
      ]
     },
     "metadata": {},
     "output_type": "display_data"
    },
    {
     "data": {
      "application/vnd.jupyter.widget-view+json": {
       "model_id": "2d6df3d9207d463dabb716cfc0688392",
       "version_major": 2,
       "version_minor": 0
      },
      "text/plain": [
       "Downloading model.safetensors:   0%|          | 0.00/714M [00:00<?, ?B/s]"
      ]
     },
     "metadata": {},
     "output_type": "display_data"
    },
    {
     "name": "stderr",
     "output_type": "stream",
     "text": [
      "Some weights of the model checkpoint at bert-base-multilingual-cased were not used when initializing BertModel: ['cls.seq_relationship.bias', 'cls.seq_relationship.weight', 'cls.predictions.transform.dense.weight', 'cls.predictions.transform.LayerNorm.weight', 'cls.predictions.transform.dense.bias', 'cls.predictions.bias', 'cls.predictions.transform.LayerNorm.bias']\n",
      "- This IS expected if you are initializing BertModel from the checkpoint of a model trained on another task or with another architecture (e.g. initializing a BertForSequenceClassification model from a BertForPreTraining model).\n",
      "- This IS NOT expected if you are initializing BertModel from the checkpoint of a model that you expect to be exactly identical (initializing a BertForSequenceClassification model from a BertForSequenceClassification model).\n"
     ]
    },
    {
     "name": "stdout",
     "output_type": "stream",
     "text": [
      "Epoch 1/8 - Loss: 0.0738\n",
      "Epoch 2/8 - Loss: 0.0563\n",
      "Epoch 3/8 - Loss: 0.0274\n",
      "Epoch 4/8 - Loss: 0.0088\n",
      "Epoch 5/8 - Loss: 0.0007\n",
      "Epoch 6/8 - Loss: 0.0001\n",
      "Epoch 7/8 - Loss: 0.0001\n",
      "Epoch 8/8 - Loss: 0.0000\n",
      "Test Results:\n",
      "\n",
      "Classification Report:\n",
      "              precision    recall  f1-score   support\n",
      "\n",
      "    Non-hope       0.69      0.92      0.79        24\n",
      "        Hope       0.87      0.57      0.68        23\n",
      "\n",
      "    accuracy                           0.74        47\n",
      "   macro avg       0.78      0.74      0.73        47\n",
      "weighted avg       0.78      0.74      0.74        47\n",
      "\n",
      "0.0\n",
      "0.0\n",
      "1.0\n",
      "0.0\n",
      "0.0\n",
      "0.0\n",
      "0.0\n",
      "0.0\n",
      "0.0\n",
      "1.0\n",
      "0.0\n",
      "1.0\n",
      "0.0\n",
      "0.0\n",
      "0.0\n",
      "1.0\n",
      "1.0\n",
      "1.0\n",
      "0.0\n",
      "1.0\n",
      "0.0\n",
      "0.0\n",
      "0.0\n",
      "1.0\n",
      "0.0\n",
      "1.0\n",
      "1.0\n",
      "0.0\n",
      "0.0\n",
      "1.0\n",
      "0.0\n",
      "0.0\n",
      "0.0\n",
      "0.0\n",
      "1.0\n",
      "0.0\n",
      "0.0\n",
      "0.0\n",
      "0.0\n",
      "1.0\n",
      "0.0\n",
      "1.0\n",
      "0.0\n",
      "0.0\n",
      "1.0\n",
      "0.0\n",
      "0.0\n",
      "[0. 0. 1. 0. 0. 0. 0. 0. 0. 1. 0. 1. 0. 0. 0. 1. 1. 1. 0. 1. 0. 0. 0. 1.\n",
      " 0. 1. 1. 0. 0. 1. 0. 0. 0. 0. 1. 0. 0. 0. 0. 1. 0. 1. 0. 0. 1. 0. 0.]\n",
      "[[0.]\n",
      " [1.]\n",
      " [1.]\n",
      " [0.]\n",
      " [0.]\n",
      " [0.]\n",
      " [1.]\n",
      " [0.]\n",
      " [1.]\n",
      " [1.]\n",
      " [1.]\n",
      " [1.]\n",
      " [0.]\n",
      " [0.]\n",
      " [0.]\n",
      " [1.]\n",
      " [1.]\n",
      " [1.]\n",
      " [0.]\n",
      " [1.]\n",
      " [0.]\n",
      " [1.]\n",
      " [1.]\n",
      " [0.]\n",
      " [0.]\n",
      " [1.]\n",
      " [1.]\n",
      " [0.]\n",
      " [0.]\n",
      " [1.]\n",
      " [1.]\n",
      " [0.]\n",
      " [0.]\n",
      " [1.]\n",
      " [1.]\n",
      " [0.]\n",
      " [1.]\n",
      " [0.]\n",
      " [0.]\n",
      " [1.]\n",
      " [0.]\n",
      " [0.]\n",
      " [1.]\n",
      " [0.]\n",
      " [1.]\n",
      " [0.]\n",
      " [0.]]\n"
     ]
    }
   ],
   "source": [
    "class TextDataset(Dataset):\n",
    "    def __init__(self, texts, labels, tokenizer, max_length):\n",
    "        self.texts = texts\n",
    "        self.labels = labels\n",
    "        self.tokenizer = tokenizer\n",
    "        self.max_length = max_length\n",
    "\n",
    "    def __len__(self):\n",
    "        return len(self.texts)\n",
    "\n",
    "    def __getitem__(self, index):\n",
    "        text = self.texts[index]\n",
    "        label = self.labels[index]\n",
    "        encoding = self.tokenizer.encode_plus(\n",
    "            text,\n",
    "            add_special_tokens=True,\n",
    "            max_length=self.max_length,\n",
    "            padding='max_length',\n",
    "            truncation=True,\n",
    "            return_tensors='pt'\n",
    "        )\n",
    "\n",
    "        input_ids = encoding['input_ids'].squeeze()\n",
    "        attention_mask = encoding['attention_mask'].squeeze()\n",
    "\n",
    "        sample = {\n",
    "            'input_ids': input_ids,\n",
    "            'attention_mask': attention_mask,\n",
    "            'labels': torch.tensor(label, dtype=torch.float).unsqueeze(0)  # Add unsqueeze(0) to make it [1, 1]\n",
    "        }\n",
    "        return sample\n",
    "\n",
    "# Define your BERT-based classifier\n",
    "class BertClassifier(nn.Module):\n",
    "    def __init__(self, num_classes):\n",
    "        super(BertClassifier, self).__init__()\n",
    "        self.bert = BertModel.from_pretrained('bert-base-multilingual-cased')\n",
    "        self.dropout = nn.Dropout(0.1)\n",
    "        self.fc = nn.Linear(self.bert.config.hidden_size, num_classes)\n",
    "\n",
    "    def forward(self, input_ids, attention_mask):\n",
    "        outputs = self.bert(input_ids=input_ids, attention_mask=attention_mask)\n",
    "        pooled_output = outputs.pooler_output\n",
    "        pooled_output = self.dropout(pooled_output)\n",
    "        logits = self.fc(pooled_output)\n",
    "        return logits\n",
    "\n",
    "tokenizer = BertTokenizer.from_pretrained('bert-base-multilingual-cased')\n",
    "max_length = 128\n",
    "\n",
    "# Create the dataset\n",
    "dataset = TextDataset(texts, labels, tokenizer, max_length)\n",
    "\n",
    "# Define the batch size and number of epochs\n",
    "batch_size = 8    #16,32\n",
    "num_epochs = 8\n",
    "\n",
    "# Create the train dataloader\n",
    "train_dataloader = DataLoader(dataset, batch_size=batch_size, shuffle=True)\n",
    "\n",
    "# Create an instance of the classifier\n",
    "model = BertClassifier(num_classes=1)\n",
    "\n",
    "\n",
    "# Define the focal loss function\n",
    "class FocalLoss(nn.Module):\n",
    "    def __init__(self, alpha=0.25, gamma=2.0):\n",
    "        super(FocalLoss, self).__init__()\n",
    "        self.alpha = alpha\n",
    "        self.gamma = gamma\n",
    "\n",
    "    def forward(self, logits, labels):\n",
    "        probs = sigmoid(logits)\n",
    "        pt = probs * labels + (1 - probs) * (1 - labels)\n",
    "        alpha_factor = self.alpha * labels + (1 - self.alpha) * (1 - labels)\n",
    "        focal_weight = alpha_factor * torch.pow(1 - pt, self.gamma)\n",
    "\n",
    "        loss = focal_weight * nn.BCEWithLogitsLoss(reduction='none')(logits, labels)\n",
    "        return loss.mean()\n",
    "\n",
    "\n",
    "# Define the loss function and optimizer\n",
    "criterion = FocalLoss()\n",
    "optimizer = torch.optim.AdamW(model.parameters(), lr=2e-5)\n",
    "\n",
    "#Training loop\n",
    "for epoch in range(num_epochs):\n",
    "    running_loss = 0.0\n",
    "\n",
    "    for batch in train_dataloader:\n",
    "        input_ids = batch['input_ids']\n",
    "        attention_mask = batch['attention_mask']\n",
    "        labels = batch['labels']\n",
    "\n",
    "        optimizer.zero_grad()\n",
    "\n",
    "        logits = model(input_ids, attention_mask)\n",
    "        loss = criterion(logits, labels)\n",
    "\n",
    "        loss.backward()\n",
    "        optimizer.step()\n",
    "\n",
    "        running_loss += loss.item()\n",
    "\n",
    "    epoch_loss = running_loss / len(train_dataloader)\n",
    "\n",
    "    print(f'Epoch {epoch + 1}/{num_epochs} - Loss: {epoch_loss:.4f}')\n",
    "\n",
    "# Evaluation\n",
    "model.eval()\n",
    "\n",
    "test_dataset = TextDataset(test_texts, test_labels, tokenizer, max_length)\n",
    "test_dataloader = DataLoader(test_dataset, batch_size=batch_size, shuffle=False)\n",
    "\n",
    "print('Test Results:')\n",
    "all_predictions = []\n",
    "all_labels = []\n",
    "\n",
    "all_texts = []  # Add a list to store the texts\n",
    "\n",
    "for batch in test_dataloader:\n",
    "    input_ids = batch['input_ids']\n",
    "    attention_mask = batch['attention_mask']\n",
    "\n",
    "    logits = model(input_ids, attention_mask)\n",
    "    probabilities = sigmoid(logits)\n",
    "    predictions = torch.round(probabilities).squeeze()\n",
    "    #print(predictions.tolist())\n",
    "    all_predictions.extend(predictions.tolist())\n",
    "    all_labels.extend(batch['labels'].tolist())\n",
    "\n",
    "\n",
    "target_names = ['Non-hope', 'Hope']\n",
    "print('\\nClassification Report:')\n",
    "print(classification_report(all_labels, all_predictions, target_names=target_names))\n",
    "\n",
    "# data = {'Text': all_texts, 'True Label': all_labels, 'Predicted Label': all_predictions}\n",
    "# print(data)\n",
    "# df = pd.DataFrame(data)\n",
    "# df.to_csv('classification_results.csv', index=False)\n",
    "\n",
    "all_predictions = np.array(all_predictions)\n",
    "all_labels = np.array(all_labels)\n",
    "\n",
    "for i in all_predictions:\n",
    "    print(i)\n",
    "\n",
    "print(all_predictions)\n",
    "print(all_labels)"
   ]
  },
  {
   "cell_type": "markdown",
   "metadata": {
    "id": "2yzuq_rHc8BW"
   },
   "source": [
    "### TRAIN_less_data (BEST SCORES)"
   ]
  },
  {
   "cell_type": "code",
   "execution_count": null,
   "metadata": {
    "colab": {
     "base_uri": "https://localhost:8080/"
    },
    "id": "oBIOn0JAc8Bf",
    "outputId": "b57e3d42-2eab-4412-abbc-cfa980ad9160",
    "pycharm": {
     "is_executing": true
    }
   },
   "outputs": [],
   "source": [
    "dfMAJ['tweet'] = dfMAJ['tweet'].apply(lambda x: clean(0,0,0,0,0,1,x))\n",
    "#clean(removeUri, removeHashtag, replaceMentions, replaceEmojies, eliminerAbbreviation,lowerCase, text):\n",
    "dfMAJ = dfMAJ.drop(dfMAJ[dfMAJ['labelAsma'] == 2].index)\n",
    "label_values = dfMAJ['labelAsma'].unique()\n",
    "\n",
    "# Afficher les valeurs de label\n",
    "print(label_values)"
   ]
  },
  {
   "cell_type": "code",
   "execution_count": null,
   "metadata": {
    "colab": {
     "base_uri": "https://localhost:8080/"
    },
    "id": "XxKjilYFc8Bg",
    "outputId": "a2a42190-a058-4132-81a9-071baa2ccb0d",
    "pycharm": {
     "is_executing": true
    }
   },
   "outputs": [],
   "source": [
    "X=dfMAJ['tweet'].tolist()\n",
    "y=dfMAJ['labelAsma'].tolist()\n",
    "texts, test_texts, labels, test_labels = train_test_split(X, y, stratify=y)\n",
    "print(len(texts))\n",
    "print(len(test_texts))"
   ]
  },
  {
   "cell_type": "code",
   "execution_count": null,
   "metadata": {
    "colab": {
     "base_uri": "https://localhost:8080/"
    },
    "id": "zrHFgt5yc8Bg",
    "outputId": "9abd005c-008a-4141-d7e4-ebd429895822"
   },
   "outputs": [
    {
     "name": "stderr",
     "output_type": "stream",
     "text": [
      "Some weights of the model checkpoint at bert-base-multilingual-cased were not used when initializing BertModel: ['cls.predictions.transform.dense.bias', 'cls.predictions.transform.LayerNorm.weight', 'cls.predictions.bias', 'cls.predictions.transform.LayerNorm.bias', 'cls.seq_relationship.weight', 'cls.seq_relationship.bias', 'cls.predictions.transform.dense.weight']\n",
      "- This IS expected if you are initializing BertModel from the checkpoint of a model trained on another task or with another architecture (e.g. initializing a BertForSequenceClassification model from a BertForPreTraining model).\n",
      "- This IS NOT expected if you are initializing BertModel from the checkpoint of a model that you expect to be exactly identical (initializing a BertForSequenceClassification model from a BertForSequenceClassification model).\n"
     ]
    },
    {
     "name": "stdout",
     "output_type": "stream",
     "text": [
      "Epoch 1/8 - Loss: 0.0735\n",
      "Epoch 2/8 - Loss: 0.0585\n",
      "Epoch 3/8 - Loss: 0.0374\n",
      "Epoch 4/8 - Loss: 0.0187\n",
      "Epoch 5/8 - Loss: 0.0082\n",
      "Epoch 6/8 - Loss: 0.0052\n",
      "Epoch 7/8 - Loss: 0.0036\n",
      "Epoch 8/8 - Loss: 0.0055\n",
      "Test Results:\n",
      "\n",
      "Classification Report:\n",
      "              precision    recall  f1-score   support\n",
      "\n",
      "    Non-hope       0.86      0.79      0.83        24\n",
      "        Hope       0.80      0.87      0.83        23\n",
      "\n",
      "    accuracy                           0.83        47\n",
      "   macro avg       0.83      0.83      0.83        47\n",
      "weighted avg       0.83      0.83      0.83        47\n",
      "\n",
      "0.0\n",
      "0.0\n",
      "1.0\n",
      "1.0\n",
      "1.0\n",
      "1.0\n",
      "0.0\n",
      "1.0\n",
      "1.0\n",
      "1.0\n",
      "0.0\n",
      "0.0\n",
      "1.0\n",
      "1.0\n",
      "0.0\n",
      "0.0\n",
      "1.0\n",
      "0.0\n",
      "1.0\n",
      "1.0\n",
      "1.0\n",
      "1.0\n",
      "1.0\n",
      "0.0\n",
      "0.0\n",
      "0.0\n",
      "1.0\n",
      "0.0\n",
      "1.0\n",
      "1.0\n",
      "0.0\n",
      "0.0\n",
      "1.0\n",
      "0.0\n",
      "0.0\n",
      "1.0\n",
      "0.0\n",
      "0.0\n",
      "0.0\n",
      "1.0\n",
      "0.0\n",
      "1.0\n",
      "1.0\n",
      "0.0\n",
      "1.0\n",
      "0.0\n",
      "1.0\n",
      "[0. 0. 1. 1. 1. 1. 0. 1. 1. 1. 0. 0. 1. 1. 0. 0. 1. 0. 1. 1. 1. 1. 1. 0.\n",
      " 0. 0. 1. 0. 1. 1. 0. 0. 1. 0. 0. 1. 0. 0. 0. 1. 0. 1. 1. 0. 1. 0. 1.]\n",
      "[[0.]\n",
      " [0.]\n",
      " [1.]\n",
      " [0.]\n",
      " [1.]\n",
      " [1.]\n",
      " [0.]\n",
      " [1.]\n",
      " [1.]\n",
      " [1.]\n",
      " [0.]\n",
      " [0.]\n",
      " [1.]\n",
      " [1.]\n",
      " [0.]\n",
      " [1.]\n",
      " [1.]\n",
      " [1.]\n",
      " [1.]\n",
      " [1.]\n",
      " [1.]\n",
      " [1.]\n",
      " [1.]\n",
      " [0.]\n",
      " [0.]\n",
      " [0.]\n",
      " [0.]\n",
      " [0.]\n",
      " [0.]\n",
      " [1.]\n",
      " [0.]\n",
      " [0.]\n",
      " [1.]\n",
      " [0.]\n",
      " [0.]\n",
      " [0.]\n",
      " [0.]\n",
      " [1.]\n",
      " [0.]\n",
      " [1.]\n",
      " [0.]\n",
      " [0.]\n",
      " [1.]\n",
      " [0.]\n",
      " [1.]\n",
      " [0.]\n",
      " [1.]]\n"
     ]
    }
   ],
   "source": [
    "class TextDataset(Dataset):\n",
    "    def __init__(self, texts, labels, tokenizer, max_length):\n",
    "        self.texts = texts\n",
    "        self.labels = labels\n",
    "        self.tokenizer = tokenizer\n",
    "        self.max_length = max_length\n",
    "\n",
    "    def __len__(self):\n",
    "        return len(self.texts)\n",
    "\n",
    "    def __getitem__(self, index):\n",
    "        text = self.texts[index]\n",
    "        label = self.labels[index]\n",
    "        encoding = self.tokenizer.encode_plus(\n",
    "            text,\n",
    "            add_special_tokens=True,\n",
    "            max_length=self.max_length,\n",
    "            padding='max_length',\n",
    "            truncation=True,\n",
    "            return_tensors='pt'\n",
    "        )\n",
    "\n",
    "        input_ids = encoding['input_ids'].squeeze()\n",
    "        attention_mask = encoding['attention_mask'].squeeze()\n",
    "\n",
    "        sample = {\n",
    "            'input_ids': input_ids,\n",
    "            'attention_mask': attention_mask,\n",
    "            'labels': torch.tensor(label, dtype=torch.float).unsqueeze(0)  # Add unsqueeze(0) to make it [1, 1]\n",
    "        }\n",
    "        return sample\n",
    "\n",
    "# Define your BERT-based classifier\n",
    "class BertClassifier(nn.Module):\n",
    "    def __init__(self, num_classes):\n",
    "        super(BertClassifier, self).__init__()\n",
    "        self.bert = BertModel.from_pretrained('bert-base-multilingual-cased')\n",
    "        self.dropout = nn.Dropout(0.1)\n",
    "        self.fc = nn.Linear(self.bert.config.hidden_size, num_classes)\n",
    "\n",
    "    def forward(self, input_ids, attention_mask):\n",
    "        outputs = self.bert(input_ids=input_ids, attention_mask=attention_mask)\n",
    "        pooled_output = outputs.pooler_output\n",
    "        pooled_output = self.dropout(pooled_output)\n",
    "        logits = self.fc(pooled_output)\n",
    "        return logits\n",
    "\n",
    "tokenizer = BertTokenizer.from_pretrained('bert-base-multilingual-cased')\n",
    "max_length = 128\n",
    "\n",
    "# Create the dataset\n",
    "dataset = TextDataset(texts, labels, tokenizer, max_length)\n",
    "\n",
    "# Define the batch size and number of epochs\n",
    "batch_size = 8    #16,32\n",
    "num_epochs = 8\n",
    "\n",
    "# Create the train dataloader\n",
    "train_dataloader = DataLoader(dataset, batch_size=batch_size, shuffle=True)\n",
    "\n",
    "# Create an instance of the classifier\n",
    "model = BertClassifier(num_classes=1)\n",
    "\n",
    "\n",
    "# Define the focal loss function\n",
    "class FocalLoss(nn.Module):\n",
    "    def __init__(self, alpha=0.25, gamma=2.0):\n",
    "        super(FocalLoss, self).__init__()\n",
    "        self.alpha = alpha\n",
    "        self.gamma = gamma\n",
    "\n",
    "    def forward(self, logits, labels):\n",
    "        probs = sigmoid(logits)\n",
    "        pt = probs * labels + (1 - probs) * (1 - labels)\n",
    "        alpha_factor = self.alpha * labels + (1 - self.alpha) * (1 - labels)\n",
    "        focal_weight = alpha_factor * torch.pow(1 - pt, self.gamma)\n",
    "\n",
    "        loss = focal_weight * nn.BCEWithLogitsLoss(reduction='none')(logits, labels)\n",
    "        return loss.mean()\n",
    "\n",
    "\n",
    "# Define the loss function and optimizer\n",
    "criterion = FocalLoss()\n",
    "optimizer = torch.optim.AdamW(model.parameters(), lr=2e-5)\n",
    "\n",
    "#Training loop\n",
    "for epoch in range(num_epochs):\n",
    "    running_loss = 0.0\n",
    "\n",
    "    for batch in train_dataloader:\n",
    "        input_ids = batch['input_ids']\n",
    "        attention_mask = batch['attention_mask']\n",
    "        labels = batch['labels']\n",
    "\n",
    "        optimizer.zero_grad()\n",
    "\n",
    "        logits = model(input_ids, attention_mask)\n",
    "        loss = criterion(logits, labels)\n",
    "\n",
    "        loss.backward()\n",
    "        optimizer.step()\n",
    "\n",
    "        running_loss += loss.item()\n",
    "\n",
    "    epoch_loss = running_loss / len(train_dataloader)\n",
    "\n",
    "    print(f'Epoch {epoch + 1}/{num_epochs} - Loss: {epoch_loss:.4f}')\n",
    "\n",
    "# Evaluation\n",
    "model.eval()\n",
    "\n",
    "test_dataset = TextDataset(test_texts, test_labels, tokenizer, max_length)\n",
    "test_dataloader = DataLoader(test_dataset, batch_size=batch_size, shuffle=False)\n",
    "\n",
    "print('Test Results:')\n",
    "all_predictions = []\n",
    "all_labels = []\n",
    "\n",
    "all_texts = []  # Add a list to store the texts\n",
    "\n",
    "for batch in test_dataloader:\n",
    "    input_ids = batch['input_ids']\n",
    "    attention_mask = batch['attention_mask']\n",
    "\n",
    "    logits = model(input_ids, attention_mask)\n",
    "    probabilities = sigmoid(logits)\n",
    "    predictions = torch.round(probabilities).squeeze()\n",
    "    #print(predictions.tolist())\n",
    "    all_predictions.extend(predictions.tolist())\n",
    "    all_labels.extend(batch['labels'].tolist())\n",
    "\n",
    "\n",
    "target_names = ['Non-hope', 'Hope']\n",
    "print('\\nClassification Report:')\n",
    "print(classification_report(all_labels, all_predictions, target_names=target_names))\n",
    "\n",
    "# data = {'Text': all_texts, 'True Label': all_labels, 'Predicted Label': all_predictions}\n",
    "# print(data)\n",
    "# df = pd.DataFrame(data)\n",
    "# df.to_csv('classification_results.csv', index=False)\n",
    "\n",
    "all_predictions = np.array(all_predictions)\n",
    "all_labels = np.array(all_labels)\n",
    "\n",
    "for i in all_predictions:\n",
    "    print(i)\n",
    "\n",
    "print(all_predictions)\n",
    "print(all_labels)"
   ]
  },
  {
   "cell_type": "markdown",
   "metadata": {
    "id": "XPTDQbEAFO2M"
   },
   "source": [
    "## BCEWithLogitsLoss\n"
   ]
  },
  {
   "cell_type": "markdown",
   "metadata": {
    "id": "k49DXMl1GZUE"
   },
   "source": [
    "### Train 1"
   ]
  },
  {
   "cell_type": "code",
   "execution_count": null,
   "metadata": {
    "id": "mGFaPT7YGlWK"
   },
   "outputs": [],
   "source": [
    "X=dfMAJ['tweet'].tolist()\n",
    "y=dfMAJ['labelAsma'].tolist()\n",
    "texts, test_texts, labels, test_labels = train_test_split(X, y, stratify=y)"
   ]
  },
  {
   "cell_type": "code",
   "execution_count": null,
   "metadata": {
    "colab": {
     "base_uri": "https://localhost:8080/"
    },
    "id": "_UkuFRQiGrc4",
    "outputId": "a1044d44-a3e4-434c-ce31-baf68c10d22e"
   },
   "outputs": [
    {
     "name": "stdout",
     "output_type": "stream",
     "text": [
      "[1 0]\n"
     ]
    },
    {
     "name": "stderr",
     "output_type": "stream",
     "text": [
      "<ipython-input-33-966d46ba9980>:1: SettingWithCopyWarning: \n",
      "A value is trying to be set on a copy of a slice from a DataFrame.\n",
      "Try using .loc[row_indexer,col_indexer] = value instead\n",
      "\n",
      "See the caveats in the documentation: https://pandas.pydata.org/pandas-docs/stable/user_guide/indexing.html#returning-a-view-versus-a-copy\n",
      "  dfMAJ['tweet'] = dfMAJ['tweet'].apply(lambda x: clean(1,1,1,1,1,1,x))\n"
     ]
    }
   ],
   "source": [
    "dfMAJ['tweet'] = dfMAJ['tweet'].apply(lambda x: clean(1,1,1,1,1,1,x))\n",
    "dfMAJ = dfMAJ.drop(dfMAJ[dfMAJ['labelAsma'] == 2].index)\n",
    "label_values = dfMAJ['labelAsma'].unique()\n",
    "\n",
    "# Afficher les valeurs de label\n",
    "print(label_values)"
   ]
  },
  {
   "cell_type": "code",
   "execution_count": null,
   "metadata": {
    "colab": {
     "base_uri": "https://localhost:8080/",
     "height": 1000
    },
    "id": "5oDaTpJAFGZA",
    "outputId": "e7d6eb1e-ad45-4a4b-adbd-d6b213d05492"
   },
   "outputs": [
    {
     "data": {
      "application/vnd.jupyter.widget-view+json": {
       "model_id": "fc1bc0f9cfb649619927c24d6d21b487",
       "version_major": 2,
       "version_minor": 0
      },
      "text/plain": [
       "Downloading (…)solve/main/vocab.txt:   0%|          | 0.00/996k [00:00<?, ?B/s]"
      ]
     },
     "metadata": {},
     "output_type": "display_data"
    },
    {
     "data": {
      "application/vnd.jupyter.widget-view+json": {
       "model_id": "96a97bebf4f44176a34fe4f4e8894d9b",
       "version_major": 2,
       "version_minor": 0
      },
      "text/plain": [
       "Downloading (…)okenizer_config.json:   0%|          | 0.00/29.0 [00:00<?, ?B/s]"
      ]
     },
     "metadata": {},
     "output_type": "display_data"
    },
    {
     "data": {
      "application/vnd.jupyter.widget-view+json": {
       "model_id": "b3469c963bc044c09064a75f4b3b1969",
       "version_major": 2,
       "version_minor": 0
      },
      "text/plain": [
       "Downloading (…)lve/main/config.json:   0%|          | 0.00/625 [00:00<?, ?B/s]"
      ]
     },
     "metadata": {},
     "output_type": "display_data"
    },
    {
     "data": {
      "application/vnd.jupyter.widget-view+json": {
       "model_id": "4093da7ad95a49209a29cf03849ec6a4",
       "version_major": 2,
       "version_minor": 0
      },
      "text/plain": [
       "Downloading model.safetensors:   0%|          | 0.00/714M [00:00<?, ?B/s]"
      ]
     },
     "metadata": {},
     "output_type": "display_data"
    },
    {
     "name": "stderr",
     "output_type": "stream",
     "text": [
      "Some weights of the model checkpoint at bert-base-multilingual-cased were not used when initializing BertModel: ['cls.predictions.transform.dense.bias', 'cls.predictions.transform.LayerNorm.weight', 'cls.predictions.bias', 'cls.predictions.transform.LayerNorm.bias', 'cls.seq_relationship.weight', 'cls.seq_relationship.bias', 'cls.predictions.transform.dense.weight']\n",
      "- This IS expected if you are initializing BertModel from the checkpoint of a model trained on another task or with another architecture (e.g. initializing a BertForSequenceClassification model from a BertForPreTraining model).\n",
      "- This IS NOT expected if you are initializing BertModel from the checkpoint of a model that you expect to be exactly identical (initializing a BertForSequenceClassification model from a BertForSequenceClassification model).\n"
     ]
    },
    {
     "name": "stdout",
     "output_type": "stream",
     "text": [
      "Epoch 1/10 - Loss: 0.6625\n",
      "Epoch 2/10 - Loss: 0.6418\n",
      "Epoch 3/10 - Loss: 0.4607\n",
      "Epoch 4/10 - Loss: 0.3539\n",
      "Epoch 5/10 - Loss: 0.1234\n",
      "Epoch 6/10 - Loss: 0.0306\n",
      "Epoch 7/10 - Loss: 0.0122\n",
      "Epoch 8/10 - Loss: 0.0075\n",
      "Epoch 9/10 - Loss: 0.0053\n",
      "Epoch 10/10 - Loss: 0.0043\n",
      "Classification Report:\n",
      "              precision    recall  f1-score   support\n",
      "\n",
      "    Non-Hope       0.84      0.67      0.74        24\n",
      "        Hope       0.71      0.87      0.78        23\n",
      "\n",
      "    accuracy                           0.77        47\n",
      "   macro avg       0.78      0.77      0.76        47\n",
      "weighted avg       0.78      0.77      0.76        47\n",
      "\n",
      "Confusion Matrix:\n",
      "[[16  8]\n",
      " [ 3 20]]\n",
      "[[1.]\n",
      " [0.]\n",
      " [0.]\n",
      " [0.]\n",
      " [1.]\n",
      " [0.]\n",
      " [0.]\n",
      " [1.]\n",
      " [0.]\n",
      " [1.]\n",
      " [1.]\n",
      " [1.]\n",
      " [0.]\n",
      " [0.]\n",
      " [0.]\n",
      " [0.]\n",
      " [1.]\n",
      " [1.]\n",
      " [0.]\n",
      " [1.]\n",
      " [1.]\n",
      " [1.]\n",
      " [1.]\n",
      " [1.]\n",
      " [1.]\n",
      " [0.]\n",
      " [1.]\n",
      " [1.]\n",
      " [0.]\n",
      " [0.]\n",
      " [0.]\n",
      " [1.]\n",
      " [1.]\n",
      " [1.]\n",
      " [1.]\n",
      " [1.]\n",
      " [0.]\n",
      " [0.]\n",
      " [0.]\n",
      " [1.]\n",
      " [1.]\n",
      " [0.]\n",
      " [1.]\n",
      " [1.]\n",
      " [1.]\n",
      " [1.]\n",
      " [1.]]\n",
      "[1 0 0 0 1 0 1 1 0 1 1 1 1 0 0 0 0 1 0 1 0 1 1 1 1 0 1 1 1 0 0 0 0 1 0 1 0\n",
      " 0 0 1 0 0 1 1 0 1 0]\n"
     ]
    }
   ],
   "source": [
    "\n",
    "# Define your dataset class\n",
    "class TextDataset(Dataset):\n",
    "    def __init__(self, texts, labels, tokenizer, max_length):\n",
    "        self.texts = texts\n",
    "        self.labels = labels\n",
    "        self.tokenizer = tokenizer\n",
    "        self.max_length = max_length\n",
    "\n",
    "    def __len__(self):\n",
    "        return len(self.texts)\n",
    "\n",
    "    def __getitem__(self, index):\n",
    "        text = self.texts[index]\n",
    "        label = self.labels[index]\n",
    "\n",
    "        encoding = self.tokenizer.encode_plus(\n",
    "            text,\n",
    "            add_special_tokens=True,\n",
    "            max_length=self.max_length,\n",
    "            padding='max_length',\n",
    "            truncation=True,\n",
    "            return_tensors='pt'\n",
    "        )\n",
    "\n",
    "        input_ids = encoding['input_ids'].squeeze()\n",
    "        attention_mask = encoding['attention_mask'].squeeze()\n",
    "\n",
    "        sample = {\n",
    "            'input_ids': input_ids,\n",
    "            'attention_mask': attention_mask,\n",
    "            'labels': label\n",
    "        }\n",
    "\n",
    "        return sample\n",
    "\n",
    "\n",
    "# Define your BERT-based classifier\n",
    "class BertClassifier(nn.Module):\n",
    "    def __init__(self, num_classes):\n",
    "        super(BertClassifier, self).__init__()\n",
    "        self.bert = BertModel.from_pretrained('bert-base-multilingual-cased')\n",
    "        self.dropout = nn.Dropout(0.1)\n",
    "        self.fc = nn.Linear(self.bert.config.hidden_size, num_classes)\n",
    "\n",
    "    def forward(self, input_ids, attention_mask):\n",
    "        outputs = self.bert(input_ids=input_ids, attention_mask=attention_mask)\n",
    "        pooled_output = outputs.pooler_output\n",
    "        pooled_output = self.dropout(pooled_output)\n",
    "        logits = self.fc(pooled_output)\n",
    "        return logits\n",
    "\n",
    "# Define the tokenizer and maximum sequence length\n",
    "tokenizer = BertTokenizer.from_pretrained('bert-base-multilingual-cased')\n",
    "max_length = 128\n",
    "\n",
    "# Create the dataset\n",
    "dataset = TextDataset(texts, labels, tokenizer, max_length)\n",
    "\n",
    "# Define the batch size and number of epochs\n",
    "batch_size = 8  #18\n",
    "num_epochs = 10     #5,7\n",
    "\n",
    "# Create the train dataloader\n",
    "train_dataloader = DataLoader(dataset, batch_size=batch_size, shuffle=True)\n",
    "\n",
    "# Create an instance of the classifier\n",
    "model = BertClassifier(num_classes=1)\n",
    "\n",
    "# Define the loss function and optimizer\n",
    "criterion = nn.BCEWithLogitsLoss()\n",
    "optimizer = torch.optim.AdamW(model.parameters(), lr=2e-5)\n",
    "\n",
    "# Training loop\n",
    "for epoch in range(num_epochs):\n",
    "    running_loss = 0.0\n",
    "\n",
    "    for batch in train_dataloader:\n",
    "        input_ids = batch['input_ids']\n",
    "        attention_mask = batch['attention_mask']\n",
    "        labels = batch['labels'].unsqueeze(1).float()\n",
    "\n",
    "        optimizer.zero_grad()\n",
    "\n",
    "        logits = model(input_ids, attention_mask)\n",
    "        loss = criterion(logits, labels)\n",
    "\n",
    "        loss.backward()\n",
    "        optimizer.step()\n",
    "\n",
    "        running_loss += loss.item()\n",
    "\n",
    "    epoch_loss = running_loss / len(train_dataloader)\n",
    "\n",
    "    print(f'Epoch {epoch + 1}/{num_epochs} - Loss: {epoch_loss:.4f}')\n",
    "\n",
    "\n",
    "test_dataset = TextDataset(test_texts, test_labels, tokenizer, max_length)\n",
    "test_dataloader = DataLoader(test_dataset, batch_size=batch_size, shuffle=False)\n",
    "\n",
    "model.eval()\n",
    "\n",
    "all_predictions = []\n",
    "all_labels = []\n",
    "for batch in test_dataloader:\n",
    "    input_ids = batch['input_ids']\n",
    "    attention_mask = batch['attention_mask']\n",
    "\n",
    "    logits = model(input_ids, attention_mask)\n",
    "    predictions = torch.sigmoid(logits)\n",
    "\n",
    "    all_predictions.extend(predictions.round().tolist())\n",
    "    all_labels.extend(batch['labels'].tolist())\n",
    "\n",
    "target_names = ['Non-Hope', 'Hope']\n",
    "print('Classification Report:')\n",
    "print(classification_report(all_labels, all_predictions, target_names=target_names))\n",
    "\n",
    "print('Confusion Matrix:')\n",
    "cm = confusion_matrix(all_labels, all_predictions)\n",
    "print(cm)\n",
    "\n",
    "\n",
    "# Convert predictions and labels to numpy arrays\n",
    "all_predictions = np.array(all_predictions)\n",
    "all_labels = np.array(all_labels)\n",
    "print(all_predictions)\n",
    "print(all_labels)\n",
    "\n",
    "\n",
    "# Create a DataFrame with predictions and labels\n",
    "# predictions_data = {'Text': test_texts, 'True Label': all_labels, 'Predicted Label': all_predictions}\n",
    "# predictions_df = pd.DataFrame(predictions_data)\n",
    "#\n",
    "# # Save the DataFrame to a CSV file\n",
    "# predictions_df.to_csv('predictions.csv', index=False)\n"
   ]
  },
  {
   "cell_type": "markdown",
   "metadata": {
    "id": "159txOpGG8k2"
   },
   "source": [
    "### Train 2"
   ]
  },
  {
   "cell_type": "code",
   "execution_count": null,
   "metadata": {
    "colab": {
     "base_uri": "https://localhost:8080/"
    },
    "id": "9SHetf2KG8k_",
    "outputId": "a0efdca3-0606-4cf9-8ff7-3e0956dc67c8"
   },
   "outputs": [
    {
     "name": "stdout",
     "output_type": "stream",
     "text": [
      "[1 0]\n"
     ]
    },
    {
     "name": "stderr",
     "output_type": "stream",
     "text": [
      "<ipython-input-20-e550329f0c44>:1: SettingWithCopyWarning: \n",
      "A value is trying to be set on a copy of a slice from a DataFrame.\n",
      "Try using .loc[row_indexer,col_indexer] = value instead\n",
      "\n",
      "See the caveats in the documentation: https://pandas.pydata.org/pandas-docs/stable/user_guide/indexing.html#returning-a-view-versus-a-copy\n",
      "  dfMAJ['tweet'] = dfMAJ['tweet'].apply(lambda x: clean(0,0,0,0,0,1,x))\n"
     ]
    }
   ],
   "source": [
    "dfMAJ['tweet'] = dfMAJ['tweet'].apply(lambda x: clean(0,0,0,0,0,1,x))\n",
    "dfMAJ = dfMAJ.drop(dfMAJ[dfMAJ['labelAsma'] == 2].index)\n",
    "label_values = dfMAJ['labelAsma'].unique()\n",
    "\n",
    "# Afficher les valeurs de label\n",
    "print(label_values)"
   ]
  },
  {
   "cell_type": "code",
   "execution_count": null,
   "metadata": {
    "id": "zghQ6cmEG8k_"
   },
   "outputs": [],
   "source": [
    "X=dfMAJ['tweet'].tolist()\n",
    "y=dfMAJ['labelAsma'].tolist()\n",
    "texts, test_texts, labels, test_labels = train_test_split(X, y, stratify=y)"
   ]
  },
  {
   "cell_type": "code",
   "execution_count": null,
   "metadata": {
    "colab": {
     "base_uri": "https://localhost:8080/",
     "height": 1000,
     "referenced_widgets": [
      "9c31de7d1ec3458986080a2b4d4115b8",
      "89d5d00383c44e65be542e1a8f6d9682",
      "ebeeb0865ce14c3ba60f7ddfd51aa74f",
      "016e3847ea7b48dd9518058edb2b4e27"
     ]
    },
    "id": "QQXqx0n8G8lA",
    "outputId": "e1fe91a3-66f5-4ecc-ccb9-d349806cb5da"
   },
   "outputs": [
    {
     "data": {
      "application/vnd.jupyter.widget-view+json": {
       "model_id": "9c31de7d1ec3458986080a2b4d4115b8",
       "version_major": 2,
       "version_minor": 0
      },
      "text/plain": [
       "Downloading (…)solve/main/vocab.txt:   0%|          | 0.00/996k [00:00<?, ?B/s]"
      ]
     },
     "metadata": {},
     "output_type": "display_data"
    },
    {
     "data": {
      "application/vnd.jupyter.widget-view+json": {
       "model_id": "89d5d00383c44e65be542e1a8f6d9682",
       "version_major": 2,
       "version_minor": 0
      },
      "text/plain": [
       "Downloading (…)okenizer_config.json:   0%|          | 0.00/29.0 [00:00<?, ?B/s]"
      ]
     },
     "metadata": {},
     "output_type": "display_data"
    },
    {
     "data": {
      "application/vnd.jupyter.widget-view+json": {
       "model_id": "ebeeb0865ce14c3ba60f7ddfd51aa74f",
       "version_major": 2,
       "version_minor": 0
      },
      "text/plain": [
       "Downloading (…)lve/main/config.json:   0%|          | 0.00/625 [00:00<?, ?B/s]"
      ]
     },
     "metadata": {},
     "output_type": "display_data"
    },
    {
     "data": {
      "application/vnd.jupyter.widget-view+json": {
       "model_id": "016e3847ea7b48dd9518058edb2b4e27",
       "version_major": 2,
       "version_minor": 0
      },
      "text/plain": [
       "Downloading model.safetensors:   0%|          | 0.00/714M [00:00<?, ?B/s]"
      ]
     },
     "metadata": {},
     "output_type": "display_data"
    },
    {
     "name": "stderr",
     "output_type": "stream",
     "text": [
      "Some weights of the model checkpoint at bert-base-multilingual-cased were not used when initializing BertModel: ['cls.seq_relationship.bias', 'cls.predictions.bias', 'cls.predictions.transform.LayerNorm.weight', 'cls.predictions.transform.dense.bias', 'cls.seq_relationship.weight', 'cls.predictions.transform.dense.weight', 'cls.predictions.transform.LayerNorm.bias']\n",
      "- This IS expected if you are initializing BertModel from the checkpoint of a model trained on another task or with another architecture (e.g. initializing a BertForSequenceClassification model from a BertForPreTraining model).\n",
      "- This IS NOT expected if you are initializing BertModel from the checkpoint of a model that you expect to be exactly identical (initializing a BertForSequenceClassification model from a BertForSequenceClassification model).\n"
     ]
    },
    {
     "name": "stdout",
     "output_type": "stream",
     "text": [
      "Epoch 1/10 - Loss: 0.6713\n",
      "Epoch 2/10 - Loss: 0.6198\n",
      "Epoch 3/10 - Loss: 0.4262\n",
      "Epoch 4/10 - Loss: 0.1456\n",
      "Epoch 5/10 - Loss: 0.0284\n",
      "Epoch 6/10 - Loss: 0.0130\n",
      "Epoch 7/10 - Loss: 0.0637\n",
      "Epoch 8/10 - Loss: 0.0338\n",
      "Epoch 9/10 - Loss: 0.0084\n",
      "Epoch 10/10 - Loss: 0.0044\n",
      "Classification Report:\n",
      "              precision    recall  f1-score   support\n",
      "\n",
      "    Non-Hope       0.70      0.79      0.75        24\n",
      "        Hope       0.75      0.65      0.70        23\n",
      "\n",
      "    accuracy                           0.72        47\n",
      "   macro avg       0.73      0.72      0.72        47\n",
      "weighted avg       0.73      0.72      0.72        47\n",
      "\n",
      "Confusion Matrix:\n",
      "[[19  5]\n",
      " [ 8 15]]\n",
      "[[0.]\n",
      " [0.]\n",
      " [0.]\n",
      " [1.]\n",
      " [1.]\n",
      " [0.]\n",
      " [0.]\n",
      " [1.]\n",
      " [1.]\n",
      " [1.]\n",
      " [0.]\n",
      " [0.]\n",
      " [0.]\n",
      " [1.]\n",
      " [0.]\n",
      " [0.]\n",
      " [1.]\n",
      " [0.]\n",
      " [1.]\n",
      " [1.]\n",
      " [1.]\n",
      " [0.]\n",
      " [0.]\n",
      " [0.]\n",
      " [0.]\n",
      " [0.]\n",
      " [1.]\n",
      " [0.]\n",
      " [0.]\n",
      " [0.]\n",
      " [0.]\n",
      " [0.]\n",
      " [1.]\n",
      " [0.]\n",
      " [0.]\n",
      " [1.]\n",
      " [0.]\n",
      " [0.]\n",
      " [0.]\n",
      " [1.]\n",
      " [1.]\n",
      " [1.]\n",
      " [1.]\n",
      " [1.]\n",
      " [1.]\n",
      " [0.]\n",
      " [1.]]\n",
      "[0 1 0 0 1 1 1 0 1 0 0 1 0 1 0 1 1 0 0 1 1 1 0 0 0 0 0 0 0 1 0 0 1 0 0 1 1\n",
      " 0 0 1 1 1 1 1 1 0 1]\n"
     ]
    }
   ],
   "source": [
    "\n",
    "# Define your dataset class\n",
    "class TextDataset(Dataset):\n",
    "    def __init__(self, texts, labels, tokenizer, max_length):\n",
    "        self.texts = texts\n",
    "        self.labels = labels\n",
    "        self.tokenizer = tokenizer\n",
    "        self.max_length = max_length\n",
    "\n",
    "    def __len__(self):\n",
    "        return len(self.texts)\n",
    "\n",
    "    def __getitem__(self, index):\n",
    "        text = self.texts[index]\n",
    "        label = self.labels[index]\n",
    "\n",
    "        encoding = self.tokenizer.encode_plus(\n",
    "            text,\n",
    "            add_special_tokens=True,\n",
    "            max_length=self.max_length,\n",
    "            padding='max_length',\n",
    "            truncation=True,\n",
    "            return_tensors='pt'\n",
    "        )\n",
    "\n",
    "        input_ids = encoding['input_ids'].squeeze()\n",
    "        attention_mask = encoding['attention_mask'].squeeze()\n",
    "\n",
    "        sample = {\n",
    "            'input_ids': input_ids,\n",
    "            'attention_mask': attention_mask,\n",
    "            'labels': label\n",
    "        }\n",
    "\n",
    "        return sample\n",
    "\n",
    "\n",
    "# Define your BERT-based classifier\n",
    "class BertClassifier(nn.Module):\n",
    "    def __init__(self, num_classes):\n",
    "        super(BertClassifier, self).__init__()\n",
    "        self.bert = BertModel.from_pretrained('bert-base-multilingual-cased')\n",
    "        self.dropout = nn.Dropout(0.1)\n",
    "        self.fc = nn.Linear(self.bert.config.hidden_size, num_classes)\n",
    "\n",
    "    def forward(self, input_ids, attention_mask):\n",
    "        outputs = self.bert(input_ids=input_ids, attention_mask=attention_mask)\n",
    "        pooled_output = outputs.pooler_output\n",
    "        pooled_output = self.dropout(pooled_output)\n",
    "        logits = self.fc(pooled_output)\n",
    "        return logits\n",
    "\n",
    "# Define the tokenizer and maximum sequence length\n",
    "tokenizer = BertTokenizer.from_pretrained('bert-base-multilingual-cased')\n",
    "max_length = 128\n",
    "\n",
    "# Create the dataset\n",
    "dataset = TextDataset(texts, labels, tokenizer, max_length)\n",
    "\n",
    "# Define the batch size and number of epochs\n",
    "batch_size = 8  #18\n",
    "num_epochs = 10     #5,7\n",
    "\n",
    "# Create the train dataloader\n",
    "train_dataloader = DataLoader(dataset, batch_size=batch_size, shuffle=True)\n",
    "\n",
    "# Create an instance of the classifier\n",
    "model = BertClassifier(num_classes=1)\n",
    "\n",
    "# Define the loss function and optimizer\n",
    "criterion = nn.BCEWithLogitsLoss()\n",
    "optimizer = torch.optim.AdamW(model.parameters(), lr=2e-5)\n",
    "\n",
    "# Training loop\n",
    "for epoch in range(num_epochs):\n",
    "    running_loss = 0.0\n",
    "\n",
    "    for batch in train_dataloader:\n",
    "        input_ids = batch['input_ids']\n",
    "        attention_mask = batch['attention_mask']\n",
    "        labels = batch['labels'].unsqueeze(1).float()\n",
    "\n",
    "        optimizer.zero_grad()\n",
    "\n",
    "        logits = model(input_ids, attention_mask)\n",
    "        loss = criterion(logits, labels)\n",
    "\n",
    "        loss.backward()\n",
    "        optimizer.step()\n",
    "\n",
    "        running_loss += loss.item()\n",
    "\n",
    "    epoch_loss = running_loss / len(train_dataloader)\n",
    "\n",
    "    print(f'Epoch {epoch + 1}/{num_epochs} - Loss: {epoch_loss:.4f}')\n",
    "\n",
    "\n",
    "test_dataset = TextDataset(test_texts, test_labels, tokenizer, max_length)\n",
    "test_dataloader = DataLoader(test_dataset, batch_size=batch_size, shuffle=False)\n",
    "\n",
    "model.eval()\n",
    "\n",
    "all_predictions = []\n",
    "all_labels = []\n",
    "for batch in test_dataloader:\n",
    "    input_ids = batch['input_ids']\n",
    "    attention_mask = batch['attention_mask']\n",
    "\n",
    "    logits = model(input_ids, attention_mask)\n",
    "    predictions = torch.sigmoid(logits)\n",
    "\n",
    "    all_predictions.extend(predictions.round().tolist())\n",
    "    all_labels.extend(batch['labels'].tolist())\n",
    "\n",
    "target_names = ['Non-Hope', 'Hope']\n",
    "print('Classification Report:')\n",
    "print(classification_report(all_labels, all_predictions, target_names=target_names))\n",
    "\n",
    "print('Confusion Matrix:')\n",
    "cm = confusion_matrix(all_labels, all_predictions)\n",
    "print(cm)\n",
    "\n",
    "\n",
    "# Convert predictions and labels to numpy arrays\n",
    "all_predictions = np.array(all_predictions)\n",
    "all_labels = np.array(all_labels)\n",
    "print(all_predictions)\n",
    "print(all_labels)\n",
    "\n",
    "\n",
    "# Create a DataFrame with predictions and labels\n",
    "# predictions_data = {'Text': test_texts, 'True Label': all_labels, 'Predicted Label': all_predictions}\n",
    "# predictions_df = pd.DataFrame(predictions_data)\n",
    "#\n",
    "# # Save the DataFrame to a CSV file\n",
    "# predictions_df.to_csv('predictions.csv', index=False)\n"
   ]
  },
  {
   "cell_type": "markdown",
   "source": [
    "# Camembert model"
   ],
   "metadata": {
    "id": "jDGEZY-KfpkX"
   }
  },
  {
   "cell_type": "markdown",
   "source": [
    "# Roberta model"
   ],
   "metadata": {
    "id": "XrfTbgSrftBH"
   }
  }
 ],
 "metadata": {
  "colab": {
   "collapsed_sections": [
    "ySzbtyHm4TP5",
    "s9ahOmVy4eGh",
    "mCxujl6V4tzW",
    "ZH05HYQt4xgn",
    "khNnr0e_pRa3",
    "VAMzJYW1SamM",
    "2yzuq_rHc8BW",
    "itkyHv5LmrQW",
    "sMjf4scXvOIX",
    "VLOT2Wl53ZOQ",
    "9ObFMVIk-fOQ",
    "XPTDQbEAFO2M",
    "k49DXMl1GZUE",
    "159txOpGG8k2"
   ],
   "provenance": []
  },
  "kernelspec": {
   "display_name": "Python 3",
   "name": "python3"
  },
  "language_info": {
   "name": "python"
  }
 },
 "nbformat": 4,
 "nbformat_minor": 0
}
